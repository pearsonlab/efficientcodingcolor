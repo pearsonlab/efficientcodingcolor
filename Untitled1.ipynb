{
 "cells": [
  {
   "cell_type": "code",
   "execution_count": 132,
   "metadata": {},
   "outputs": [
    {
     "data": {
      "text/plain": [
       "[(1.00000000000000,\n",
       "  1,\n",
       "  [Matrix([\n",
       "   [ 0.707106781186548],\n",
       "   [-0.707106781186548],\n",
       "   [                 0]])]),\n",
       " (0.666666666666667,\n",
       "  1,\n",
       "  [Matrix([\n",
       "   [-1.06066017177982],\n",
       "   [0.353553390593274],\n",
       "   [0.707106781186548]])]),\n",
       " (0.333333333333333,\n",
       "  1,\n",
       "  [Matrix([\n",
       "   [-0.612372435695795],\n",
       "   [ 0.612372435695795],\n",
       "   [  1.22474487139159]])])]"
      ]
     },
     "execution_count": 132,
     "metadata": {},
     "output_type": "execute_result"
    }
   ],
   "source": [
    "from sympy import *\n",
    "import numpy as np\n",
    "\n",
    "Rv = 1/6*Matrix([[5,-1,2],\n",
    "                [-1,5,-2],\n",
    "                [-2,-2,2]])\n",
    "Rv.eigenvects()"
   ]
  },
  {
   "cell_type": "code",
   "execution_count": 10,
   "metadata": {},
   "outputs": [
    {
     "data": {
      "text/plain": [
       "{1/2 - sqrt(5)/2: 1, 1/2 + sqrt(5)/2: 1}"
      ]
     },
     "execution_count": 10,
     "metadata": {},
     "output_type": "execute_result"
    }
   ],
   "source": [
    "A = Matrix([[1,1],\n",
    "           [1,0]])\n",
    "eigenvals = A.eigenvals()\n",
    "eigenvects = A.eigenvects()\n",
    "eigenvals\n"
   ]
  },
  {
   "cell_type": "code",
   "execution_count": 159,
   "metadata": {},
   "outputs": [
    {
     "data": {
      "text/latex": [
       "$\\displaystyle \\left[\\begin{matrix}388.888977191736\\\\333.333409021488\\\\277.77784085124\\end{matrix}\\right]$"
      ],
      "text/plain": [
       "Matrix([\n",
       "[388.888977191736],\n",
       "[333.333409021488],\n",
       "[ 277.77784085124]])"
      ]
     },
     "execution_count": 159,
     "metadata": {},
     "output_type": "execute_result"
    }
   ],
   "source": [
    "B = Matrix([[0.3,0.4,0.5],\n",
    "           [0.3,0.4,0.3],\n",
    "           [0.4,0.2,0.2]])\n",
    "(B**10000000000*Matrix([300,300,400]))"
   ]
  },
  {
   "cell_type": "code",
   "execution_count": 148,
   "metadata": {},
   "outputs": [
    {
     "data": {
      "text/latex": [
       "$\\displaystyle \\left[\\begin{matrix}-0.667423812471915\\\\-0.572077553547355\\\\-0.476731294622796\\end{matrix}\\right]$"
      ],
      "text/plain": [
       "Matrix([\n",
       "[-0.667423812471915],\n",
       "[-0.572077553547355],\n",
       "[-0.476731294622796]])"
      ]
     },
     "execution_count": 148,
     "metadata": {},
     "output_type": "execute_result"
    }
   ],
   "source": [
    "B.eigenvects()[0][2][0]"
   ]
  },
  {
   "cell_type": "code",
   "execution_count": 59,
   "metadata": {},
   "outputs": [
    {
     "data": {
      "text/plain": [
       "-1.0408340855860843e-17"
      ]
     },
     "execution_count": 59,
     "metadata": {},
     "output_type": "execute_result"
    }
   ],
   "source": []
  },
  {
   "cell_type": "code",
   "execution_count": 97,
   "metadata": {},
   "outputs": [
    {
     "data": {
      "text/plain": [
       "(Matrix([\n",
       " [-2, -1],\n",
       " [ 1,  1]]),\n",
       " Matrix([\n",
       " [2, 0],\n",
       " [0, 3]]))"
      ]
     },
     "execution_count": 97,
     "metadata": {},
     "output_type": "execute_result"
    }
   ],
   "source": [
    "A = Matrix([[1,-2],\n",
    "           [1,4]])\n",
    "A.diagonalize()"
   ]
  },
  {
   "cell_type": "code",
   "execution_count": 165,
   "metadata": {},
   "outputs": [
    {
     "data": {
      "text/plain": [
       "{2: 1, 1: 2}"
      ]
     },
     "execution_count": 165,
     "metadata": {},
     "output_type": "execute_result"
    }
   ],
   "source": [
    "y = Symbol('y')\n",
    "roots((1-y)*(y**2 - 3*y + 2))"
   ]
  },
  {
   "cell_type": "code",
   "execution_count": 169,
   "metadata": {},
   "outputs": [
    {
     "data": {
      "text/plain": [
       "[(0,\n",
       "  1,\n",
       "  [Matrix([\n",
       "   [1],\n",
       "   [1],\n",
       "   [0]])]),\n",
       " (1,\n",
       "  1,\n",
       "  [Matrix([\n",
       "   [1],\n",
       "   [2],\n",
       "   [1]])]),\n",
       " (2,\n",
       "  1,\n",
       "  [Matrix([\n",
       "   [  0],\n",
       "   [1/2],\n",
       "   [  1]])])]"
      ]
     },
     "execution_count": 169,
     "metadata": {},
     "output_type": "execute_result"
    }
   ],
   "source": [
    "C = Matrix([[1,1,0],\n",
    "           [1,2,1],\n",
    "           [0,1,2]])\n",
    "C.inv()\n",
    "D = Matrix([[0,0,0],\n",
    "           [0,1,0],\n",
    "           [0,0,2]])\n",
    "(C*D*C.inv()).eigenvects()"
   ]
  },
  {
   "cell_type": "code",
   "execution_count": 175,
   "metadata": {},
   "outputs": [
    {
     "data": {
      "text/latex": [
       "$\\displaystyle \\left[\\begin{matrix}- \\frac{1}{2} & \\frac{1}{2}\\\\\\frac{1}{2} & \\frac{1}{2}\\end{matrix}\\right]$"
      ],
      "text/plain": [
       "Matrix([\n",
       "[-1/2, 1/2],\n",
       "[ 1/2, 1/2]])"
      ]
     },
     "execution_count": 175,
     "metadata": {},
     "output_type": "execute_result"
    }
   ],
   "source": [
    "A = Matrix([[2,-1],\n",
    "          [-1,2]])\n",
    "C = Matrix([[-1,1],\n",
    "           [1,1]])\n",
    "C.inv()"
   ]
  },
  {
   "cell_type": "code",
   "execution_count": null,
   "metadata": {},
   "outputs": [],
   "source": []
  }
 ],
 "metadata": {
  "kernelspec": {
   "display_name": "Python 3 (ipykernel)",
   "language": "python",
   "name": "python3"
  },
  "language_info": {
   "codemirror_mode": {
    "name": "ipython",
    "version": 3
   },
   "file_extension": ".py",
   "mimetype": "text/x-python",
   "name": "python",
   "nbconvert_exporter": "python",
   "pygments_lexer": "ipython3",
   "version": "3.10.4"
  }
 },
 "nbformat": 4,
 "nbformat_minor": 4
}
