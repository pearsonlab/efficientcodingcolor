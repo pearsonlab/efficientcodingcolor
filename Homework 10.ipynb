{
 "cells": [
  {
   "cell_type": "code",
   "execution_count": 51,
   "id": "1e246f0d",
   "metadata": {},
   "outputs": [
    {
     "data": {
      "text/plain": [
       "[(1,\n",
       "  3,\n",
       "  [Matrix([\n",
       "   [   0],\n",
       "   [-3/2],\n",
       "   [   1]])])]"
      ]
     },
     "execution_count": 51,
     "metadata": {},
     "output_type": "execute_result"
    }
   ],
   "source": [
    "from sympy import *\n",
    "import numpy as np\n",
    "\n",
    "A = Matrix([[6,2,3],\n",
    "           [-14,-7,-12],\n",
    "           [1,2,4]])\n",
    "lamda = symbols('lamda')\n",
    "roots(A.charpoly(lamda))\n",
    "A.eigenvects()"
   ]
  },
  {
   "cell_type": "code",
   "execution_count": 9,
   "id": "6bdda97f",
   "metadata": {},
   "outputs": [
    {
     "data": {
      "text/plain": [
       "-0.6180339887498949"
      ]
     },
     "execution_count": 9,
     "metadata": {},
     "output_type": "execute_result"
    }
   ],
   "source": [
    "x = 1/2 - np.sqrt(5)/2\n",
    "x"
   ]
  },
  {
   "cell_type": "code",
   "execution_count": 20,
   "id": "db1dde9d",
   "metadata": {},
   "outputs": [
    {
     "data": {
      "text/latex": [
       "$\\displaystyle \\left[\\begin{matrix}1.61803398874989 & 1\\\\1 & 0.618033988749895\\end{matrix}\\right]$"
      ],
      "text/plain": [
       "Matrix([\n",
       "[1.61803398874989,                 1],\n",
       "[               1, 0.618033988749895]])"
      ]
     },
     "execution_count": 20,
     "metadata": {},
     "output_type": "execute_result"
    }
   ],
   "source": [
    "(A - eye(2)*x)"
   ]
  },
  {
   "cell_type": "code",
   "execution_count": 32,
   "id": "a374f2cc",
   "metadata": {},
   "outputs": [
    {
     "data": {
      "text/plain": [
       "{3: 1, 2: 1, -1: 1}"
      ]
     },
     "execution_count": 32,
     "metadata": {},
     "output_type": "execute_result"
    }
   ],
   "source": [
    "x = Symbol('x')\n",
    "roots((-x-1)*((1-x)*(4-x)+2))"
   ]
  },
  {
   "cell_type": "code",
   "execution_count": 40,
   "id": "823d4bec",
   "metadata": {},
   "outputs": [
    {
     "data": {
      "text/plain": [
       "0"
      ]
     },
     "execution_count": 40,
     "metadata": {},
     "output_type": "execute_result"
    }
   ],
   "source": [
    "y = 2\n",
    "-1\n",
    "y**3 - 4*y**2 + y + 6"
   ]
  },
  {
   "cell_type": "code",
   "execution_count": null,
   "id": "d07e1698",
   "metadata": {},
   "outputs": [],
   "source": []
  }
 ],
 "metadata": {
  "kernelspec": {
   "display_name": "Python 3 (ipykernel)",
   "language": "python",
   "name": "python3"
  },
  "language_info": {
   "codemirror_mode": {
    "name": "ipython",
    "version": 3
   },
   "file_extension": ".py",
   "mimetype": "text/x-python",
   "name": "python",
   "nbconvert_exporter": "python",
   "pygments_lexer": "ipython3",
   "version": "3.10.4"
  }
 },
 "nbformat": 4,
 "nbformat_minor": 5
}
