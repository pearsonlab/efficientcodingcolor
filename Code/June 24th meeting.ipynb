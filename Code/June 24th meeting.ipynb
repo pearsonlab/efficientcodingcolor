{
 "cells": [
  {
   "cell_type": "markdown",
   "id": "6353e0e8-c2ed-46f9-a395-75dcc137f2a4",
   "metadata": {},
   "source": [
    "What I did this week:\n",
    "1. Get set up on Trishula - code runs 2x faster\n",
    "2. Write code for Mosaics creation\n",
    "3. Fix eigenspectrum code, and integrate it with analysis code (in progress)\n"
   ]
  },
  {
   "cell_type": "code",
   "execution_count": 1,
   "id": "8ad745d4-b659-4a47-9fca-4cdb5e1a4d65",
   "metadata": {},
   "outputs": [
    {
     "name": "stderr",
     "output_type": "stream",
     "text": [
      "/home/david/anaconda3/envs/reteffcod/lib/python3.11/site-packages/torch/functional.py:504: UserWarning: torch.meshgrid: in an upcoming release, it will be required to pass the indexing argument. (Triggered internally at /opt/conda/conda-bld/pytorch_1702400430266/work/aten/src/ATen/native/TensorShape.cpp:3526.)\n",
      "  return _VF.meshgrid(tensors, **kwargs)  # type: ignore[attr-defined]\n"
     ]
    }
   ],
   "source": [
    "import numpy as np\n",
    "import sys\n",
    "sys.path.insert(1, '/home/david/Github/efficientcodingcolor/Code')\n",
    "from MosaicAnalysis import Analysis, MatrixSpectrum\n",
    "from MosaicsCreation import Mosaics\n",
    "import torch\n",
    "import matplotlib"
   ]
  },
  {
   "cell_type": "code",
   "execution_count": 16,
   "id": "425f0179-2c42-418b-9475-6e9d50c54157",
   "metadata": {},
   "outputs": [
    {
     "name": "stdout",
     "output_type": "stream",
     "text": [
      "root kyoto_natim\n",
      "Loading 62 images from kyoto_natim ...\n"
     ]
    },
    {
     "name": "stderr",
     "output_type": "stream",
     "text": [
      "100%|███████████████████████████████████████████| 62/62 [00:00<00:00, 83.43it/s]\n",
      "Taking samples for covariance calculation: 100%|████████| 100000/100000 [00:01<00:00, 54105.47it/s]\n"
     ]
    }
   ],
   "source": [
    "save_name = 'Artificial1'\n",
    "\n",
    "neurons_per_mosaic = np.array([10,10])\n",
    "a = 0.5; b = 0.3; c = 0.3\n",
    "params = np.array([[a,b,c, -0.5,    a,b,c,-0.5],\n",
    "                   [a,b,c, 0.5,    a,b,c,0.5]]).T\n",
    "input_noise = 0.4\n",
    "output_noise = 3\n",
    "gain = 1\n",
    "bias = 5\n",
    "\n",
    "kernel_size = 30\n",
    "\n",
    "mosaic = Mosaics(params, neurons_per_mosaic, kernel_size, gain, bias, input_noise, output_noise)"
   ]
  },
  {
   "cell_type": "markdown",
   "id": "4f20954f-99c4-4e0b-8235-559db31ea5c1",
   "metadata": {},
   "source": [
    "I can then save this mosaic as model.pt and checkpoint.pt files, which allows me to analyze these mosaics as if it were a trained model:"
   ]
  },
  {
   "cell_type": "code",
   "execution_count": 17,
   "id": "b9a422a1-2b36-44b6-aa15-640bf14cd446",
   "metadata": {},
   "outputs": [],
   "source": [
    "mosaic.save(save_name)"
   ]
  },
  {
   "cell_type": "code",
   "execution_count": 18,
   "id": "a38eaaaa-c195-4061-a32f-484a226615fc",
   "metadata": {},
   "outputs": [],
   "source": [
    "n_clusters_global = 2\n",
    "n_comps_global = 3 \n",
    "rad_dist_global = 5 \n",
    "\n",
    "test = Analysis('artificial_mosaics/' + save_name)\n",
    "test(n_comps_global, rad_dist_global, n_clusters_global)"
   ]
  },
  {
   "cell_type": "code",
   "execution_count": null,
   "id": "cc4d1488-45ad-4974-a319-9cea54d100d1",
   "metadata": {},
   "outputs": [],
   "source": [
    "test.make_rads_folder(False)"
   ]
  },
  {
   "cell_type": "markdown",
   "id": "3c838af6-35d4-42cd-ac2a-493eedb6a11d",
   "metadata": {},
   "source": [
    "What the set of mosaics look like: The receptive fields are highly dependent on how far the kernel is from an integer value\n",
    "Suggestion: Make the RFs independent from the distance to an integer value by removing the minimum distance. "
   ]
  },
  {
   "cell_type": "code",
   "execution_count": 20,
   "id": "80036b90-1629-4f70-8621-6fff179459e0",
   "metadata": {},
   "outputs": [],
   "source": [
    "test.mosaics_bokeh()"
   ]
  },
  {
   "cell_type": "markdown",
   "id": "6ab262ed-3cc9-4523-8cd5-91cfef125aef",
   "metadata": {},
   "source": [
    "I can also get the MI and average firing rate loss for these artificial mosaics.\n",
    "I do not know why the MI is so low. This could be a bug, but it also could be due to the receptive fields being redundant in their responses. "
   ]
  },
  {
   "cell_type": "code",
   "execution_count": 5,
   "id": "e5b4fca4-1f4c-49b4-85b5-9347c9f4896d",
   "metadata": {},
   "outputs": [
    {
     "name": "stderr",
     "output_type": "stream",
     "text": [
      "/home/david/Github/efficientcodingcolor/Code/model.py:322: UserWarning: torch.cholesky is deprecated in favor of torch.linalg.cholesky and will be removed in a future PyTorch release.\n",
      "L = torch.cholesky(A)\n",
      "should be replaced with\n",
      "L = torch.linalg.cholesky(A)\n",
      "and\n",
      "U = torch.cholesky(A, upper=True)\n",
      "should be replaced with\n",
      "U = torch.linalg.cholesky(A).mH\n",
      "This transform will produce equivalent results for all valid (symmetric positive definite) inputs. (Triggered internally at /opt/conda/conda-bld/pytorch_1702400430266/work/aten/src/ATen/native/BatchLinearAlgebra.cpp:1692.)\n",
      "  L_numerator = numerator.cholesky()\n"
     ]
    },
    {
     "name": "stdout",
     "output_type": "stream",
     "text": [
      "1.6398311805725099 19.998374938964844\n"
     ]
    }
   ],
   "source": [
    "MI, FR = mosaic.loss(50)\n",
    "print(MI, FR)"
   ]
  },
  {
   "cell_type": "code",
   "execution_count": 19,
   "id": "50857599-d455-425e-a105-5cafb37ed63a",
   "metadata": {},
   "outputs": [
    {
     "name": "stdout",
     "output_type": "stream",
     "text": [
      "root kyoto_natim\n",
      "Loading 62 images from kyoto_natim ...\n"
     ]
    },
    {
     "name": "stderr",
     "output_type": "stream",
     "text": [
      "100%|███████████████████████████████████████████| 62/62 [00:00<00:00, 84.48it/s]\n",
      "Taking samples for covariance calculation: 100%|████████| 100000/100000 [00:01<00:00, 53827.27it/s]\n"
     ]
    }
   ],
   "source": [
    "test.get_responses()\n",
    "spec = MatrixSpectrum(test, 128)"
   ]
  },
  {
   "cell_type": "code",
   "execution_count": 20,
   "id": "dd116f74-8643-4835-aaa6-edeee33b9ed4",
   "metadata": {},
   "outputs": [
    {
     "name": "stdout",
     "output_type": "stream",
     "text": [
      "25.69249 22.72372 2.968769\n",
      "25.964762 22.66673 3.2980309\n",
      "27.087978 22.954105 4.133873\n",
      "24.186758 22.370625 1.8161335\n",
      "24.700384 22.516949 2.1834354\n",
      "26.365734 22.835247 3.530487\n",
      "24.291313 22.459404 1.8319092\n",
      "26.253695 22.823395 3.4302998\n",
      "26.151672 22.800877 3.3507957\n",
      "24.955444 22.493355 2.4620895\n",
      "25.694378 22.681622 3.0127563\n",
      "24.697905 22.489212 2.2086926\n",
      "25.982056 22.81007 3.1719856\n",
      "25.068134 22.626524 2.4416103\n",
      "25.25562 22.612307 2.6433125\n",
      "26.675728 22.873852 3.801876\n",
      "24.586815 22.459267 2.1275482\n",
      "24.801674 22.51611 2.2855644\n",
      "25.571833 22.689264 2.8825684\n",
      "25.412086 22.623367 2.7887192\n",
      "25.319319 22.60003 2.7192879\n",
      "23.671957 22.330065 1.3418922\n",
      "26.96544 22.996275 3.9691658\n",
      "25.82957 22.711193 3.1183777\n",
      "25.074762 22.511436 2.563326\n",
      "25.718664 22.664585 3.054079\n",
      "26.39062 22.769943 3.620676\n",
      "24.560219 22.536995 2.0232239\n",
      "25.164564 22.519474 2.64509\n",
      "25.991085 22.732475 3.2586098\n",
      "23.944405 22.356462 1.5879421\n",
      "23.03245 22.124115 0.90833473\n",
      "26.163284 22.751638 3.411646\n",
      "25.589424 22.681458 2.9079666\n",
      "23.995083 22.310896 1.6841869\n",
      "24.733213 22.421206 2.312008\n",
      "24.157852 22.384243 1.7736092\n",
      "26.415539 22.79086 3.6246796\n",
      "24.65968 22.502773 2.1569061\n",
      "26.76471 22.864729 3.8999805\n",
      "23.869938 22.293148 1.5767899\n",
      "26.464426 22.872183 3.5922432\n",
      "25.491722 22.699604 2.792118\n",
      "25.438059 22.631079 2.8069801\n",
      "25.87874 22.716204 3.1625366\n",
      "24.867859 22.56939 2.2984695\n",
      "24.264366 22.431137 1.8332291\n",
      "24.961119 22.539368 2.421751\n",
      "26.54409 22.84497 3.6991196\n",
      "26.931362 23.015139 3.9162235\n",
      "24.754175 22.519913 2.2342625\n",
      "23.8805 22.297958 1.5825424\n",
      "25.88811 22.659092 3.2290173\n",
      "23.657623 22.32402 1.3336029\n",
      "25.018604 22.61735 2.4012547\n",
      "26.17891 22.76568 3.413229\n",
      "27.906012 23.21385 4.6921616\n",
      "25.925169 22.691305 3.2338638\n",
      "25.626694 22.644033 2.9826603\n",
      "25.451035 22.79426 2.6567745\n",
      "27.345284 23.04428 4.3010044\n",
      "24.028166 22.371233 1.6569328\n",
      "24.46588 22.390968 2.074911\n",
      "25.67542 22.659664 3.0157566\n",
      "27.093842 23.034021 4.05982\n",
      "25.433266 22.728992 2.7042732\n",
      "24.60587 22.46117 2.144699\n",
      "24.537628 22.387102 2.150526\n",
      "26.494204 22.826147 3.6680565\n",
      "25.384521 22.610617 2.7739048\n",
      "25.735592 22.770893 2.9646988\n",
      "25.702452 22.746166 2.9562855\n",
      "26.59442 22.913586 3.6808338\n",
      "26.663525 22.893393 3.770132\n",
      "25.908499 22.691706 3.216793\n",
      "25.04383 22.59508 2.4487514\n",
      "25.7593 22.665003 3.0942974\n",
      "24.054478 22.333012 1.7214661\n",
      "25.842823 22.700874 3.1419487\n",
      "25.626888 22.70834 2.9185486\n",
      "26.586735 22.862883 3.7238522\n",
      "24.889156 22.579462 2.3096943\n",
      "26.00205 22.729427 3.272623\n",
      "26.231462 22.798153 3.4333096\n",
      "26.011822 22.676416 3.3354053\n",
      "25.955875 22.815895 3.1399803\n",
      "24.73904 22.514423 2.224617\n",
      "25.603132 22.611313 2.9918194\n",
      "25.732498 22.673159 3.0593395\n",
      "25.692894 22.634733 3.0581608\n",
      "27.16687 23.059553 4.107317\n",
      "27.28094 23.036524 4.2444153\n",
      "25.765965 22.61233 3.153635\n",
      "24.874401 22.453238 2.4211636\n",
      "26.767975 22.889286 3.8786888\n",
      "23.87091 22.276628 1.5942822\n",
      "25.460878 22.617418 2.84346\n",
      "24.519413 22.39407 2.1253433\n",
      "23.839577 22.30143 1.538147\n",
      "25.449368 22.659008 2.7903595\n",
      "23.895407 22.356953 1.538454\n",
      "24.996246 22.61516 2.3810863\n",
      "24.497494 22.38696 2.1105347\n",
      "25.56797 22.719809 2.8481617\n",
      "24.178608 22.327974 1.8506336\n",
      "24.448853 22.393654 2.0551987\n",
      "25.443035 22.562595 2.8804398\n",
      "25.05752 22.51945 2.5380707\n",
      "24.633741 22.368433 2.2653084\n",
      "24.761341 22.439583 2.3217583\n",
      "25.677898 22.65849 3.0194092\n",
      "26.106525 22.764767 3.3417587\n",
      "25.911161 22.695873 3.2152882\n",
      "24.171127 22.389355 1.7817726\n",
      "26.42339 22.8838 3.539589\n",
      "23.974045 22.352196 1.6218491\n",
      "24.966917 22.488033 2.4788837\n",
      "25.164879 22.529118 2.6357613\n",
      "25.300339 22.60561 2.6947289\n",
      "26.284388 22.83378 3.4506073\n",
      "25.697 22.671501 3.0254993\n",
      "24.328836 22.37413 1.9547062\n",
      "24.875229 22.542315 2.3329144\n",
      "25.340626 22.544949 2.7956772\n",
      "26.235205 22.823868 3.411337\n",
      "25.14659 22.608807 2.5377827\n",
      "25.188385 22.498936 2.6894493\n",
      "24.486519 22.410082 2.076437\n"
     ]
    }
   ],
   "source": [
    "spec.plot_eigenvals()"
   ]
  },
  {
   "cell_type": "markdown",
   "id": "41afd8e0-8753-4ae6-9a22-67e2b4195b43",
   "metadata": {},
   "source": [
    "Part 2: Eigenspectrum for individual images "
   ]
  },
  {
   "cell_type": "code",
   "execution_count": 9,
   "id": "1bf6f465-08d5-42e3-a9a7-6039a5c628b1",
   "metadata": {},
   "outputs": [
    {
     "name": "stdout",
     "output_type": "stream",
     "text": [
      "root kyoto_natim\n",
      "Loading 62 images from kyoto_natim ...\n"
     ]
    },
    {
     "name": "stderr",
     "output_type": "stream",
     "text": [
      "100%|███████████████████████████████████████████| 62/62 [00:00<00:00, 89.47it/s]\n",
      "Taking samples for covariance calculation: 100%|████████| 100000/100000 [00:01<00:00, 55075.46it/s]\n"
     ]
    }
   ],
   "source": [
    "save2 = '240301-055438'\n",
    "n_clusters_global = 4\n",
    "n_comps_global = 3 \n",
    "rad_dist_global = 5 \n",
    "\n",
    "test2 = Analysis(save2)\n",
    "test2(n_comps = n_comps_global, rad_dist = rad_dist_global, n_clusters = n_clusters_global)\n",
    "test2.get_responses()"
   ]
  },
  {
   "cell_type": "code",
   "execution_count": 10,
   "id": "eb807624-5a26-470b-92f7-721c4c161b08",
   "metadata": {},
   "outputs": [
    {
     "name": "stdout",
     "output_type": "stream",
     "text": [
      "634.8384 467.54108 167.2973\n",
      "632.24994 464.1366 168.11334\n",
      "614.69995 445.66806 169.03189\n",
      "602.5802 438.44135 164.13885\n",
      "632.2104 464.7812 167.4292\n",
      "629.6348 461.22482 168.41\n",
      "620.573 453.8703 166.7027\n",
      "604.2269 443.21347 161.01346\n",
      "629.37463 461.20734 168.1673\n",
      "621.47174 455.94022 165.53152\n"
     ]
    },
    {
     "data": {
      "image/png": "[encoded data removed]",
      "text/plain": [
       "<Figure size 640x480 with 1 Axes>"
      ]
     },
     "metadata": {},
     "output_type": "display_data"
    }
   ],
   "source": [
    "batch_size = 10\n",
    "spec = MatrixSpectrum(test2, batch_size)\n",
    "matplotlib.use(\"QtAgg\")\n",
    "%matplotlib inline\n",
    "spec.plot_eigenvals()"
   ]
  },
  {
   "cell_type": "markdown",
   "id": "25a8e52e-431d-4b24-a756-9462959319d3",
   "metadata": {},
   "source": []
  }
 ],
 "metadata": {
  "kernelspec": {
   "display_name": "Python 3 (ipykernel)",
   "language": "python",
   "name": "python3"
  },
  "language_info": {
   "codemirror_mode": {
    "name": "ipython",
    "version": 3
   },
   "file_extension": ".py",
   "mimetype": "text/x-python",
   "name": "python",
   "nbconvert_exporter": "python",
   "pygments_lexer": "ipython3",
   "version": "3.11.9"
  }
 },
 "nbformat": 4,
 "nbformat_minor": 5
}
