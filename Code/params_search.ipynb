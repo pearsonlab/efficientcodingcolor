{
 "cells": [
  {
   "cell_type": "code",
   "execution_count": 1,
   "id": "6e46176f-fbee-41e4-9206-515871a290fb",
   "metadata": {},
   "outputs": [
    {
     "name": "stderr",
     "output_type": "stream",
     "text": [
      "/home/david/anaconda3/envs/reteffcod/lib/python3.11/site-packages/torch/functional.py:504: UserWarning: torch.meshgrid: in an upcoming release, it will be required to pass the indexing argument. (Triggered internally at /opt/conda/conda-bld/pytorch_1702400430266/work/aten/src/ATen/native/TensorShape.cpp:3526.)\n",
      "  return _VF.meshgrid(tensors, **kwargs)  # type: ignore[attr-defined]\n"
     ]
    }
   ],
   "source": [
    "import numpy as np\n",
    "import sys\n",
    "from MosaicAnalysis import Analysis, MatrixSpectrum\n",
    "from MosaicsCreation import Mosaics\n",
    "from data import KyotoNaturalImages\n",
    "import torch\n",
    "import matplotlib"
   ]
  },
  {
   "cell_type": "code",
   "execution_count": 2,
   "id": "9f6ec58f-83c0-4574-83ea-cf2117218056",
   "metadata": {},
   "outputs": [
    {
     "name": "stdout",
     "output_type": "stream",
     "text": [
      "root kyoto_natim\n",
      "Loading 62 images from kyoto_natim ...\n"
     ]
    },
    {
     "name": "stderr",
     "output_type": "stream",
     "text": [
      "100%|███████████████████████████████████████████| 62/62 [00:00<00:00, 74.55it/s]\n",
      "Taking samples for covariance calculation: 100%|████████| 100000/100000 [00:01<00:00, 53050.34it/s]\n"
     ]
    },
    {
     "data": {
      "text/plain": [
       "tensor([[9.9291e-09, 8.9754e-09, 7.7755e-09,  ..., 3.1654e-09, 3.1421e-09,\n",
       "         3.1087e-09],\n",
       "        [8.9754e-09, 9.9108e-09, 8.9693e-09,  ..., 3.1934e-09, 3.1700e-09,\n",
       "         3.1423e-09],\n",
       "        [7.7755e-09, 8.9693e-09, 9.9303e-09,  ..., 3.2351e-09, 3.2142e-09,\n",
       "         3.1857e-09],\n",
       "        ...,\n",
       "        [3.1654e-09, 3.1934e-09, 3.2351e-09,  ..., 9.8626e-09, 8.9909e-09,\n",
       "         7.8001e-09],\n",
       "        [3.1421e-09, 3.1700e-09, 3.2142e-09,  ..., 8.9909e-09, 9.8735e-09,\n",
       "         9.0072e-09],\n",
       "        [3.1087e-09, 3.1423e-09, 3.1857e-09,  ..., 7.8001e-09, 9.0072e-09,\n",
       "         9.8704e-09]], device='cuda:0')"
      ]
     },
     "execution_count": 2,
     "metadata": {},
     "output_type": "execute_result"
    }
   ],
   "source": [
    "save_name = 'Artificial1'\n",
    "kernel_size = 18\n",
    "images = KyotoNaturalImages('kyoto_natim', kernel_size, circle_masking = True, device = \"cuda:0\", n_colors = 2, normalize_color = True, restriction = 'True', remove_mean = False)\n",
    "images.covariance()"
   ]
  },
  {
   "cell_type": "code",
   "execution_count": null,
   "id": "2d2cc3c4-b72d-4368-90bd-b990571cfd4b",
   "metadata": {},
   "outputs": [],
   "source": [
    "input_noise = 30\n",
    "output_noise = 0.1\n",
    "\n",
    "gain = 10\n",
    "bias = 1.6\n",
    "\n",
    "neurons_per_mosaic = np.array([50,50,50,50]) #All numbers must be even\n",
    "a = 4; b = 0; c = 0.99\n",
    "\n",
    "#a = np.log(a)\n",
    "#b = 1/(1/np.log(b) - 1/a)\n",
    "#c = np.log(c/(1-c))\n",
    "\n",
    "#params = np.array([[a,b,c, -0.5,    a,b,c,-0.5],\n",
    "#                   [a,b,c, 0.5,    a,b,c,0.5]]).T\n",
    "#params = np.array([[-0.4, -0.6,  0.2,  2, -0.3, -0.3, -1,  1.6], #These are original values from a trained model\n",
    "#                   [-0.4, -0.6,  0.2,  -2, -0.3, -0.3, -1,  -1.6]]).T\n",
    "\n",
    "params = np.array([[-0.4, -0.6,  0.2,  2, -0.3, -0.3, -1,  1.6], #These are original values from a trained model\n",
    "                   [-0.4, -0.6,  0.2,  -2, -0.3, -0.3, -1,  -1.6],\n",
    "                   [-0.4, -0.6,  0.2,  2, -0.3, -0.3, -1,  -1.6],\n",
    "                   [-0.4, -0.6,  0.2,  -1.5, -0.3, -0.3, -1,  1.6]]).T\n",
    "\n",
    "mosaic = Mosaics(params, neurons_per_mosaic, kernel_size, gain, bias, input_noise, output_noise, images = images)\n",
    "spec = MatrixSpectrum(mosaic.model, mosaic.images, batch_size = 128, input_noise = input_noise, output_noise = output_noise)\n",
    "print(np.mean(spec.numerator) - np.mean(spec.denominator))"
   ]
  },
  {
   "cell_type": "code",
   "execution_count": null,
   "id": "a5d50243-57f8-4931-a0d5-0fb29f782784",
   "metadata": {},
   "outputs": [],
   "source": [
    "mosaic.save(save_name)\n",
    "n_clusters_global = 2\n",
    "n_comps_global = 3 \n",
    "rad_dist_global = 5 \n",
    "\n",
    "test = Analysis('artificial_mosaics/' + save_name)\n",
    "test(n_comps_global, rad_dist_global, n_clusters_global)\n",
    "%matplotlib inline\n",
    "test.plot_rad_avg(test.rad_avg[0,:,:])"
   ]
  },
  {
   "cell_type": "code",
   "execution_count": null,
   "id": "c64d1eb9-f657-4129-96a1-d754879fc5c1",
   "metadata": {},
   "outputs": [],
   "source": []
  },
  {
   "cell_type": "code",
   "execution_count": null,
   "id": "64f0daea-6f6f-4684-8ba1-735a0ed64dec",
   "metadata": {},
   "outputs": [],
   "source": []
  }
 ],
 "metadata": {
  "kernelspec": {
   "display_name": "Python 3 (ipykernel)",
   "language": "python",
   "name": "python3"
  },
  "language_info": {
   "codemirror_mode": {
    "name": "ipython",
    "version": 3
   },
   "file_extension": ".py",
   "mimetype": "text/x-python",
   "name": "python",
   "nbconvert_exporter": "python",
   "pygments_lexer": "ipython3",
   "version": "3.11.9"
  }
 },
 "nbformat": 4,
 "nbformat_minor": 5
}
