{
 "cells": [
  {
   "cell_type": "code",
   "execution_count": 2,
   "id": "b0725d5e",
   "metadata": {},
   "outputs": [
    {
     "data": {
      "image/png": "[encoded data removed]",
      "text/latex": [
       "$\\displaystyle \\left[\\begin{matrix}\\frac{3}{4} & \\frac{1}{4} & - \\frac{1}{4} & \\frac{1}{4}\\\\\\frac{1}{4} & \\frac{3}{4} & \\frac{1}{4} & - \\frac{1}{4}\\\\- \\frac{1}{4} & \\frac{1}{4} & \\frac{3}{4} & \\frac{1}{4}\\\\\\frac{1}{4} & - \\frac{1}{4} & \\frac{1}{4} & \\frac{3}{4}\\end{matrix}\\right]$"
      ],
      "text/plain": [
       "⎡3/4   1/4   -1/4  1/4 ⎤\n",
       "⎢                      ⎥\n",
       "⎢1/4   3/4   1/4   -1/4⎥\n",
       "⎢                      ⎥\n",
       "⎢-1/4  1/4   3/4   1/4 ⎥\n",
       "⎢                      ⎥\n",
       "⎣1/4   -1/4  1/4   3/4 ⎦"
      ]
     },
     "execution_count": 2,
     "metadata": {},
     "output_type": "execute_result"
    }
   ],
   "source": [
    "from sympy import *\n",
    "init_printing(fontsize = '100pt')\n",
    "\n",
    "A = Matrix([[1,2,1],\n",
    "            [-1,1,0],\n",
    "            [2,2,-1],\n",
    "            [4,3,0]])\n",
    "\n",
    "Pv = A*(A.T*A).inv()*A.T\n",
    "Pv*Pv"
   ]
  },
  {
   "cell_type": "code",
   "execution_count": 7,
   "id": "34174861",
   "metadata": {},
   "outputs": [
    {
     "data": {
      "image/png": "[encoded data removed]",
      "text/latex": [
       "$\\displaystyle \\left[\\begin{matrix}1 & 0 & 0\\\\0 & 1 & 0\\\\0 & 0 & 1\\end{matrix}\\right]$"
      ],
      "text/plain": [
       "⎡1  0  0⎤\n",
       "⎢       ⎥\n",
       "⎢0  1  0⎥\n",
       "⎢       ⎥\n",
       "⎣0  0  1⎦"
      ]
     },
     "execution_count": 7,
     "metadata": {},
     "output_type": "execute_result"
    }
   ],
   "source": [
    "A = Matrix([[2,2,-1],\n",
    "            [-4,5,5],\n",
    "            [6,1,12]])\n",
    "\n",
    "Pv = A*(A.T*A).inv()*A.T\n",
    "Pv"
   ]
  },
  {
   "cell_type": "code",
   "execution_count": 10,
   "id": "a0188f25",
   "metadata": {},
   "outputs": [
    {
     "data": {
      "image/png": "[encoded data removed]",
      "text/latex": [
       "$\\displaystyle \\left[\\begin{matrix}\\frac{1}{5} & 0 & \\frac{2}{5}\\\\0 & 1 & 0\\\\\\frac{2}{5} & 0 & \\frac{4}{5}\\end{matrix}\\right]$"
      ],
      "text/plain": [
       "⎡1/5  0  2/5⎤\n",
       "⎢           ⎥\n",
       "⎢ 0   1   0 ⎥\n",
       "⎢           ⎥\n",
       "⎣2/5  0  4/5⎦"
      ]
     },
     "execution_count": 10,
     "metadata": {},
     "output_type": "execute_result"
    }
   ],
   "source": [
    "A = Matrix([[1,0],\n",
    "            [2,2],\n",
    "            [2,0]])\n",
    "\n",
    "Pv = A*(A.T*A).inv()*A.T\n",
    "Pv"
   ]
  },
  {
   "cell_type": "code",
   "execution_count": 11,
   "id": "c2b4dfc5",
   "metadata": {},
   "outputs": [
    {
     "data": {
      "image/png": "[encoded data removed]",
      "text/latex": [
       "$\\displaystyle \\left( \\left[\\begin{matrix}1 & 0 & 0\\\\0 & 1 & 1\\end{matrix}\\right], \\  \\left( 0, \\  1\\right)\\right)$"
      ],
      "text/plain": [
       "⎛⎡1  0  0⎤        ⎞\n",
       "⎜⎢       ⎥, (0, 1)⎟\n",
       "⎝⎣0  1  1⎦        ⎠"
      ]
     },
     "execution_count": 11,
     "metadata": {},
     "output_type": "execute_result"
    }
   ],
   "source": [
    "A = Matrix([[1,2,2],\n",
    "           [0,2,2]])\n",
    "A.rref()"
   ]
  },
  {
   "cell_type": "code",
   "execution_count": 5,
   "id": "2a20c35a",
   "metadata": {},
   "outputs": [
    {
     "data": {
      "image/png": "[encoded data removed]",
      "text/latex": [
       "$\\displaystyle \\left[\\begin{matrix}0.5 & 0 & 0.5\\\\0 & 1 & 0\\\\0.5 & 0 & 0.5\\end{matrix}\\right]$"
      ],
      "text/plain": [
       "⎡0.5  0  0.5⎤\n",
       "⎢           ⎥\n",
       "⎢ 0   1   0 ⎥\n",
       "⎢           ⎥\n",
       "⎣0.5  0  0.5⎦"
      ]
     },
     "execution_count": 5,
     "metadata": {},
     "output_type": "execute_result"
    }
   ],
   "source": [
    "A = Matrix([[0.5,0,0.5],\n",
    "           [0,1,0],\n",
    "           [0.5,0,0.5]])\n",
    "A*A"
   ]
  },
  {
   "cell_type": "code",
   "execution_count": 21,
   "id": "8cb38021",
   "metadata": {},
   "outputs": [
    {
     "data": {
      "image/png": "[encoded data removed]",
      "text/latex": [
       "$\\displaystyle \\left[\\begin{matrix}\\frac{1}{14} & \\frac{1}{7} & - \\frac{3}{14}\\\\\\frac{1}{7} & \\frac{2}{7} & - \\frac{3}{7}\\\\- \\frac{3}{14} & - \\frac{3}{7} & \\frac{9}{14}\\end{matrix}\\right]$"
      ],
      "text/plain": [
       "⎡1/14   1/7   -3/14⎤\n",
       "⎢                  ⎥\n",
       "⎢ 1/7   2/7   -3/7 ⎥\n",
       "⎢                  ⎥\n",
       "⎣-3/14  -3/7  9/14 ⎦"
      ]
     },
     "execution_count": 21,
     "metadata": {},
     "output_type": "execute_result"
    }
   ],
   "source": [
    "v = Matrix([[-1],\n",
    "           [-2],\n",
    "           [3]])\n",
    "Pv = v*v.T / (v.T @ v)[0]\n",
    "Pvt = eye(3) - Pv\n",
    "Pv"
   ]
  },
  {
   "cell_type": "code",
   "execution_count": 36,
   "id": "2f4a8eeb",
   "metadata": {},
   "outputs": [
    {
     "data": {
      "image/png": "[encoded data removed]",
      "text/latex": [
       "$\\displaystyle \\left[\\begin{matrix}1 & 0 & 0 & 0\\\\0 & 1 & 0 & 0\\\\0 & 0 & 1 & 0\\\\0 & 0 & 0 & 1\\end{matrix}\\right]$"
      ],
      "text/plain": [
       "⎡1  0  0  0⎤\n",
       "⎢          ⎥\n",
       "⎢0  1  0  0⎥\n",
       "⎢          ⎥\n",
       "⎢0  0  1  0⎥\n",
       "⎢          ⎥\n",
       "⎣0  0  0  1⎦"
      ]
     },
     "execution_count": 36,
     "metadata": {},
     "output_type": "execute_result"
    }
   ],
   "source": [
    "A = Matrix([[1,2],\n",
    "            [-1,1],\n",
    "            [2,2],\n",
    "            [4,3]])\n",
    "\n",
    "Pv = A*(A.T*A).inv()*A.T\n",
    "B_pre = Matrix([[1,-1,2,4],\n",
    "              [2,1,2,3]])\n",
    "B_pre.rref()\n",
    "B = Matrix([[-4,-7],\n",
    "           [2,5],\n",
    "           [3,0],\n",
    "           [0,3]])\n",
    "B*(B.T*B).inv()*B.T + Pv"
   ]
  },
  {
   "cell_type": "code",
   "execution_count": 67,
   "id": "9ea8faba",
   "metadata": {},
   "outputs": [
    {
     "data": {
      "image/png": "[encoded data removed]",
      "text/latex": [
       "$\\displaystyle \\left[\\begin{matrix}0\\\\0\\\\0\\end{matrix}\\right]$"
      ],
      "text/plain": [
       "⎡0⎤\n",
       "⎢ ⎥\n",
       "⎢0⎥\n",
       "⎢ ⎥\n",
       "⎣0⎦"
      ]
     },
     "execution_count": 67,
     "metadata": {},
     "output_type": "execute_result"
    }
   ],
   "source": [
    "A = Matrix([[1,1,1],\n",
    "           [1,-1,-2],\n",
    "           [-1,1,3],\n",
    "           [-1,1,1]])\n",
    "b = Matrix([[0],\n",
    "           [0],\n",
    "           [0],\n",
    "           [0]])\n",
    "#Pv = A*(A.T*A).inv()*A.T\n",
    "#A.T*b\n",
    "B = (A.T*A).col_insert((A.T*A).shape[1] + 1,A.T*b)\n",
    "B_ref = B.rref()\n",
    "x = B_ref[0].col(-1) #Question 1\n",
    "bv = A*x #Question 2\n",
    "bv_b = bv - b\n",
    "res = sqrt(bv_b.T * bv_b)\n",
    "#bv\n",
    "x"
   ]
  },
  {
   "cell_type": "code",
   "execution_count": 96,
   "id": "3a380f6e",
   "metadata": {},
   "outputs": [
    {
     "data": {
      "image/png": "[encoded data removed]",
      "text/latex": [
       "$\\displaystyle \\left[\\begin{matrix}1.40454304481923\\\\0.395151839733171\\\\-0.689166135220565\\\\-3.48479069659592\\\\-5.19778557938083\\end{matrix}\\right]$"
      ],
      "text/plain": [
       "⎡ 1.40454304481923 ⎤\n",
       "⎢                  ⎥\n",
       "⎢0.395151839733171 ⎥\n",
       "⎢                  ⎥\n",
       "⎢-0.689166135220565⎥\n",
       "⎢                  ⎥\n",
       "⎢-3.48479069659592 ⎥\n",
       "⎢                  ⎥\n",
       "⎣-5.19778557938083 ⎦"
      ]
     },
     "execution_count": 96,
     "metadata": {},
     "output_type": "execute_result"
    }
   ],
   "source": [
    "import numpy as np\n",
    "x = np.array([1,3,2.5,1,-0.5,-2,-2.5,-1.5])\n",
    "y = np.array([3,1.5,0,-1,-1,0,2,3.5])\n",
    "y_2 = Matrix(y**2).T\n",
    "xy = Matrix(x*y).T\n",
    "x_1 = Matrix(x).T\n",
    "y_1 = Matrix(y).T\n",
    "E = Matrix([1,1,1,1,1,1,1,1]).T\n",
    "A = Matrix([y_2,xy,x_1,y_1,E]).T\n",
    "b = Matrix(-x**2)\n",
    "(A.T*A).solve(A.T*b)"
   ]
  },
  {
   "cell_type": "code",
   "execution_count": null,
   "id": "07ee6a55",
   "metadata": {},
   "outputs": [],
   "source": []
  }
 ],
 "metadata": {
  "kernelspec": {
   "display_name": "Python 3 (ipykernel)",
   "language": "python",
   "name": "python3"
  },
  "language_info": {
   "codemirror_mode": {
    "name": "ipython",
    "version": 3
   },
   "file_extension": ".py",
   "mimetype": "text/x-python",
   "name": "python",
   "nbconvert_exporter": "python",
   "pygments_lexer": "ipython3",
   "version": "3.10.4"
  }
 },
 "nbformat": 4,
 "nbformat_minor": 5
}
