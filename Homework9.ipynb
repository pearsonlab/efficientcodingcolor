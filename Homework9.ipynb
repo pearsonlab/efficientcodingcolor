{
 "cells": [
  {
   "cell_type": "code",
   "execution_count": 38,
   "id": "e373f634",
   "metadata": {},
   "outputs": [
    {
     "data": {
      "text/latex": [
       "$\\displaystyle \\left[\\begin{matrix}\\frac{5}{3} & - \\frac{2}{3} & \\frac{1}{3}\\\\- \\frac{2}{3} & \\frac{2}{3} & - \\frac{1}{3}\\\\\\frac{1}{3} & - \\frac{1}{3} & \\frac{2}{3}\\end{matrix}\\right]$"
      ],
      "text/plain": [
       "Matrix([\n",
       "[ 5/3, -2/3,  1/3],\n",
       "[-2/3,  2/3, -1/3],\n",
       "[ 1/3, -1/3,  2/3]])"
      ]
     },
     "execution_count": 38,
     "metadata": {},
     "output_type": "execute_result"
    }
   ],
   "source": [
    "from sympy import *\n",
    "y = symbols('y')\n",
    "x = Matrix([[1,1,0],\n",
    "            [1,3,1],\n",
    "           [0,1,2]])\n",
    "x.inv()"
   ]
  },
  {
   "cell_type": "code",
   "execution_count": 17,
   "id": "01cdf9e3",
   "metadata": {},
   "outputs": [
    {
     "data": {
      "text/plain": [
       "-48"
      ]
     },
     "execution_count": 17,
     "metadata": {},
     "output_type": "execute_result"
    }
   ],
   "source": [
    "8*36 + 19*24 + 33*-24"
   ]
  },
  {
   "cell_type": "code",
   "execution_count": 26,
   "id": "51e66d2e",
   "metadata": {},
   "outputs": [
    {
     "data": {
      "text/plain": [
       "45"
      ]
     },
     "execution_count": 26,
     "metadata": {},
     "output_type": "execute_result"
    }
   ],
   "source": [
    "2*3*18 - 3*3*7"
   ]
  },
  {
   "cell_type": "code",
   "execution_count": 34,
   "id": "c967f502",
   "metadata": {},
   "outputs": [
    {
     "data": {
      "text/plain": [
       "0"
      ]
     },
     "execution_count": 34,
     "metadata": {},
     "output_type": "execute_result"
    }
   ],
   "source": [
    "2*-5*12 + 2*5*6 + 4 - 5*6 - 10 - 2*12*-4"
   ]
  },
  {
   "cell_type": "code",
   "execution_count": 65,
   "id": "b0f3882b",
   "metadata": {},
   "outputs": [
    {
     "data": {
      "text/latex": [
       "$\\displaystyle \\left[\\begin{matrix}1 & 0 & 0\\\\-1 & \\frac{1}{2} & \\frac{1}{2}\\\\0 & - \\frac{1}{2} & \\frac{1}{2}\\end{matrix}\\right]$"
      ],
      "text/plain": [
       "Matrix([\n",
       "[ 1,    0,   0],\n",
       "[-1,  1/2, 1/2],\n",
       "[ 0, -1/2, 1/2]])"
      ]
     },
     "execution_count": 65,
     "metadata": {},
     "output_type": "execute_result"
    }
   ],
   "source": [
    "A = Matrix([[1,0,0],\n",
    "           [1,1,-1],\n",
    "           [1,1,1]])\n",
    "\n",
    "A.det()\n",
    "A.inv()\n",
    "\n"
   ]
  },
  {
   "cell_type": "markdown",
   "id": "02e5dbf3",
   "metadata": {},
   "source": [
    "u1 = Matrix([-1])"
   ]
  },
  {
   "cell_type": "code",
   "execution_count": null,
   "id": "d4f9653b",
   "metadata": {},
   "outputs": [],
   "source": []
  },
  {
   "cell_type": "code",
   "execution_count": 73,
   "id": "de0af170",
   "metadata": {},
   "outputs": [
    {
     "data": {
      "text/latex": [
       "$\\displaystyle \\left[\\begin{matrix}\\frac{5}{6} & - \\frac{1}{6} & - \\frac{1}{3}\\\\- \\frac{1}{6} & \\frac{5}{6} & - \\frac{1}{3}\\\\- \\frac{1}{3} & - \\frac{1}{3} & \\frac{1}{3}\\end{matrix}\\right]$"
      ],
      "text/plain": [
       "Matrix([\n",
       "[ 5/6, -1/6, -1/3],\n",
       "[-1/6,  5/6, -1/3],\n",
       "[-1/3, -1/3,  1/3]])"
      ]
     },
     "execution_count": 73,
     "metadata": {},
     "output_type": "execute_result"
    }
   ],
   "source": [
    "u1 = Matrix([-1,1,0])\n",
    "u2 = Matrix([-1,-1,1])\n",
    "Pv = u1*u1.T/u1.dot(u1) + u2*u2.T/u2.dot(u2)\n",
    "Pv"
   ]
  },
  {
   "cell_type": "code",
   "execution_count": 94,
   "id": "124f86ac",
   "metadata": {},
   "outputs": [
    {
     "data": {
      "text/latex": [
       "$\\displaystyle -1.38777878078145 \\cdot 10^{-17}$"
      ],
      "text/plain": [
       "-1.38777878078145e-17"
      ]
     },
     "execution_count": 94,
     "metadata": {},
     "output_type": "execute_result"
    }
   ],
   "source": [
    "Pv = 1/6*Matrix([[5,-1,-2],\n",
    "                [-1,5,-2],\n",
    "                [-2,-2,2]])\n",
    "Pvt = eye(3) - Pv\n",
    "Rv = eye(3) - 2*Pvt\n",
    "Rv.det()\n"
   ]
  },
  {
   "cell_type": "code",
   "execution_count": 87,
   "id": "b9350348",
   "metadata": {},
   "outputs": [
    {
     "data": {
      "text/latex": [
       "$\\displaystyle \\sqrt{3}$"
      ],
      "text/plain": [
       "sqrt(3)"
      ]
     },
     "execution_count": 87,
     "metadata": {},
     "output_type": "execute_result"
    }
   ],
   "source": [
    "v1 = Matrix([-1,2,1])\n",
    "v2 = Matrix([1,1,0])\n",
    "v3 = Matrix([0,-1,1])\n",
    "v2.cross(v3).norm()"
   ]
  },
  {
   "cell_type": "code",
   "execution_count": 106,
   "id": "addbbe42",
   "metadata": {},
   "outputs": [
    {
     "data": {
      "text/latex": [
       "$\\displaystyle \\left[\\begin{matrix}-3\\\\6\\\\-3\\end{matrix}\\right]$"
      ],
      "text/plain": [
       "Matrix([\n",
       "[-3],\n",
       "[ 6],\n",
       "[-3]])"
      ]
     },
     "execution_count": 106,
     "metadata": {},
     "output_type": "execute_result"
    }
   ],
   "source": [
    "v1 = Matrix([1,2,3])\n",
    "v2 = Matrix([4,5,6])\n",
    "v1.cross(v2)"
   ]
  },
  {
   "cell_type": "code",
   "execution_count": 90,
   "id": "c96f7553",
   "metadata": {},
   "outputs": [
    {
     "data": {
      "text/latex": [
       "$\\displaystyle 0$"
      ],
      "text/plain": [
       "0"
      ]
     },
     "execution_count": 90,
     "metadata": {},
     "output_type": "execute_result"
    }
   ],
   "source": [
    "Matrix([[1,2,3],\n",
    "       [4,5,6],\n",
    "       [1,1,1]]).det()"
   ]
  },
  {
   "cell_type": "code",
   "execution_count": 103,
   "id": "57a14209",
   "metadata": {},
   "outputs": [
    {
     "data": {
      "text/latex": [
       "$\\displaystyle 152100$"
      ],
      "text/plain": [
       "152100"
      ]
     },
     "execution_count": 103,
     "metadata": {},
     "output_type": "execute_result"
    }
   ],
   "source": [
    "a = Matrix([[1,1,-2],\n",
    "           [-3,10,6],\n",
    "          [9,4,12]])\n",
    "a.det()**2\n"
   ]
  },
  {
   "cell_type": "code",
   "execution_count": 116,
   "id": "9a4674c7",
   "metadata": {},
   "outputs": [
    {
     "data": {
      "text/latex": [
       "$\\displaystyle \\left[\\begin{matrix}0\\\\0\\\\0\\end{matrix}\\right]$"
      ],
      "text/plain": [
       "Matrix([\n",
       "[0],\n",
       "[0],\n",
       "[0]])"
      ]
     },
     "execution_count": 116,
     "metadata": {},
     "output_type": "execute_result"
    }
   ],
   "source": [
    "a = Matrix([[1, 2, 3],\n",
    "           [4,5,6],\n",
    "           [7,8,9]])\n",
    "b = Matrix([1,-2,1])\n",
    "a*b\n",
    "\n"
   ]
  },
  {
   "cell_type": "code",
   "execution_count": 141,
   "id": "47945354",
   "metadata": {},
   "outputs": [
    {
     "data": {
      "text/plain": [
       "(2,\n",
       " 2,\n",
       " [Matrix([\n",
       "  [-1],\n",
       "  [ 1],\n",
       "  [ 0]]),\n",
       "  Matrix([\n",
       "  [2],\n",
       "  [0],\n",
       "  [1]])])"
      ]
     },
     "execution_count": 141,
     "metadata": {},
     "output_type": "execute_result"
    }
   ],
   "source": [
    "A = Matrix([[3,1,-2],\n",
    "           [-2,0,4],\n",
    "           [-1,-1,4]])\n",
    "(A - 2*eye(3)).rref()[0]\n",
    "A.eigenvects()[0]"
   ]
  },
  {
   "cell_type": "code",
   "execution_count": 167,
   "id": "101a458d",
   "metadata": {},
   "outputs": [
    {
     "data": {
      "text/plain": [
       "[(1.00000000000000,\n",
       "  1,\n",
       "  [Matrix([\n",
       "   [1.0],\n",
       "   [  0]])]),\n",
       " (1.41421356237310,\n",
       "  1,\n",
       "  [Matrix([\n",
       "   [              1.0],\n",
       "   [0.292893218813453]])])]"
      ]
     },
     "execution_count": 167,
     "metadata": {},
     "output_type": "execute_result"
    }
   ],
   "source": [
    "import numpy as np\n",
    "A = Matrix([[1,np.sqrt(2)],\n",
    "           [0,np.sqrt(2)]])\n",
    "A.eigenvects()"
   ]
  },
  {
   "cell_type": "code",
   "execution_count": null,
   "id": "79cd565a",
   "metadata": {},
   "outputs": [],
   "source": []
  }
 ],
 "metadata": {
  "kernelspec": {
   "display_name": "Python 3 (ipykernel)",
   "language": "python",
   "name": "python3"
  },
  "language_info": {
   "codemirror_mode": {
    "name": "ipython",
    "version": 3
   },
   "file_extension": ".py",
   "mimetype": "text/x-python",
   "name": "python",
   "nbconvert_exporter": "python",
   "pygments_lexer": "ipython3",
   "version": "3.10.4"
  }
 },
 "nbformat": 4,
 "nbformat_minor": 5
}
