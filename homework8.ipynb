{
 "cells": [
  {
   "cell_type": "code",
   "execution_count": 42,
   "id": "c03214ac",
   "metadata": {},
   "outputs": [
    {
     "data": {
      "image/png": "[encoded data removed]",
      "text/latex": [
       "$\\displaystyle \\left[\\begin{matrix}6 & 0\\\\0 & 5\\end{matrix}\\right]$"
      ],
      "text/plain": [
       "⎡6  0⎤\n",
       "⎢    ⎥\n",
       "⎣0  5⎦"
      ]
     },
     "execution_count": 42,
     "metadata": {},
     "output_type": "execute_result"
    }
   ],
   "source": [
    "from sympy import *\n",
    "init_printing(fontsize = '100pt')\n",
    "#1a\n",
    "Q = Matrix([[1,-2],\n",
    "            [2,1],\n",
    "            [-1,0]])\n",
    "Q.T*Q\n",
    "\n"
   ]
  },
  {
   "cell_type": "code",
   "execution_count": 43,
   "id": "489d4f90",
   "metadata": {},
   "outputs": [
    {
     "data": {
      "image/png": "[encoded data removed]",
      "text/latex": [
       "$\\displaystyle \\left[\\begin{matrix}1.0 & 0 & 0\\\\0 & 1.0 & 0\\\\0 & 0 & 1.0\\end{matrix}\\right]$"
      ],
      "text/plain": [
       "⎡1.0   0    0 ⎤\n",
       "⎢             ⎥\n",
       "⎢ 0   1.0   0 ⎥\n",
       "⎢             ⎥\n",
       "⎣ 0    0   1.0⎦"
      ]
     },
     "execution_count": 43,
     "metadata": {},
     "output_type": "execute_result"
    }
   ],
   "source": [
    "#1b\n",
    "a = 1/(2**0.5)\n",
    "Q = Matrix([[0.5,0.5,0],\n",
    "            [0.5,0.5,0],\n",
    "            [0.5,-0.5,a],\n",
    "            [0.5,-0.5,-a]])\n",
    "Q.T*Q"
   ]
  },
  {
   "cell_type": "code",
   "execution_count": 44,
   "id": "c5ef24a3",
   "metadata": {},
   "outputs": [
    {
     "data": {
      "image/png": "[encoded data removed]",
      "text/latex": [
       "$\\displaystyle \\left[\\begin{matrix}1.0 & 0.444444444444444\\\\0.444444444444444 & 1.0\\end{matrix}\\right]$"
      ],
      "text/plain": [
       "⎡       1.0         0.444444444444444⎤\n",
       "⎢                                    ⎥\n",
       "⎣0.444444444444444         1.0       ⎦"
      ]
     },
     "execution_count": 44,
     "metadata": {},
     "output_type": "execute_result"
    }
   ],
   "source": [
    "#1c\n",
    "Q = 1/3 * Matrix([[1,-2],\n",
    "           [2,1],\n",
    "           [2,2]])\n",
    "Q.T*Q"
   ]
  },
  {
   "cell_type": "code",
   "execution_count": 45,
   "id": "a0b9d77d",
   "metadata": {},
   "outputs": [
    {
     "data": {
      "image/png": "[encoded data removed]",
      "text/latex": [
       "$\\displaystyle \\left[\\begin{matrix}1.0 & 0 & 0\\\\0 & 1.0 & 0\\\\0 & 0 & 1.0\\end{matrix}\\right]$"
      ],
      "text/plain": [
       "⎡1.0   0    0 ⎤\n",
       "⎢             ⎥\n",
       "⎢ 0   1.0   0 ⎥\n",
       "⎢             ⎥\n",
       "⎣ 0    0   1.0⎦"
      ]
     },
     "execution_count": 45,
     "metadata": {},
     "output_type": "execute_result"
    }
   ],
   "source": [
    "#1d\n",
    "b = 1/(2**0.5)\n",
    "c = 1/(18**0.5)\n",
    "Q = Matrix([[1/3,0,-4*c],\n",
    "           [2/3,b,c],\n",
    "           [2/3,-b,c]])\n",
    "Q.T*Q\n"
   ]
  },
  {
   "cell_type": "code",
   "execution_count": 76,
   "id": "2784670a",
   "metadata": {},
   "outputs": [
    {
     "data": {
      "image/png": "[encoded data removed]",
      "text/latex": [
       "$\\displaystyle \\left[\\begin{matrix}4 & -4 & 2\\\\-4 & \\frac{29}{5} & \\frac{8}{5}\\\\2 & \\frac{8}{5} & \\frac{41}{5}\\end{matrix}\\right]$"
      ],
      "text/plain": [
       "⎡4    -4    2  ⎤\n",
       "⎢              ⎥\n",
       "⎢-4  29/5  8/5 ⎥\n",
       "⎢              ⎥\n",
       "⎣2   8/5   41/5⎦"
      ]
     },
     "execution_count": 76,
     "metadata": {},
     "output_type": "execute_result"
    }
   ],
   "source": [
    "#2a 3a\n",
    "V = Matrix([[0,2],\n",
    "           [1,-2],\n",
    "           [2,1]])\n",
    "b = Matrix([3,8,1])\n",
    "qqt = V.T*V\n",
    "Q = Matrix([[V[:,0] * 1/qqt[0,0]**0.5, V[:,1] * 1/qqt[1,1]**0.5]])\n",
    "nsimplify(Q*Q.T*9, rational = True)\n",
    "#implify(Q, rational = True)\n",
    "#simplify(Q*Q.T, rational = True)\n"
   ]
  },
  {
   "cell_type": "code",
   "execution_count": 93,
   "id": "72e1de26",
   "metadata": {},
   "outputs": [
    {
     "data": {
      "image/png": "[encoded data removed]",
      "text/latex": [
       "$\\displaystyle \\left[\\begin{matrix}1.0 & 0\\\\0 & 1.0\\end{matrix}\\right]$"
      ],
      "text/plain": [
       "⎡1.0   0 ⎤\n",
       "⎢        ⎥\n",
       "⎣ 0   1.0⎦"
      ]
     },
     "execution_count": 93,
     "metadata": {},
     "output_type": "execute_result"
    }
   ],
   "source": [
    "#2b 3b\n",
    "V = Matrix([[1,-1],\n",
    "           [2,1],\n",
    "           [1,-1]])\n",
    "b = Matrix([0,3,6])\n",
    "qqt = V.T*V\n",
    "Q = Matrix([[V[:,0] * 1/qqt[0,0]**0.5, V[:,1] * 1/qqt[1,1]**0.5]])\n",
    "Q.T*Q\n",
    "#nsimplify(Q*Q.T)"
   ]
  },
  {
   "cell_type": "code",
   "execution_count": 90,
   "id": "81422e69",
   "metadata": {},
   "outputs": [
    {
     "data": {
      "image/png": "[encoded data removed]",
      "text/latex": [
       "$\\displaystyle \\left[\\begin{matrix}0.75 & 0.25 & 0.25 & -0.25\\\\0.25 & 0.75 & -0.25 & 0.25\\\\0.25 & -0.25 & 0.75 & 0.25\\\\-0.25 & 0.25 & 0.25 & 0.75\\end{matrix}\\right]$"
      ],
      "text/plain": [
       "⎡0.75   0.25   0.25   -0.25⎤\n",
       "⎢                          ⎥\n",
       "⎢0.25   0.75   -0.25  0.25 ⎥\n",
       "⎢                          ⎥\n",
       "⎢0.25   -0.25  0.75   0.25 ⎥\n",
       "⎢                          ⎥\n",
       "⎣-0.25  0.25   0.25   0.75 ⎦"
      ]
     },
     "execution_count": 90,
     "metadata": {},
     "output_type": "execute_result"
    }
   ],
   "source": [
    "#2c 3c\n",
    "V = Matrix([[1,1,1],\n",
    "           [1,1,-1],\n",
    "           [1,-1,1],\n",
    "           [1,-1,-1]])\n",
    "b = Matrix([4,2,-4,2])\n",
    "qqt = V.T*V\n",
    "Q = Matrix([[V[:,0] * 1/qqt[0,0]**0.5, V[:,1] * 1/qqt[1,1]**0.5, V[:,2]*1/qqt[2,2]**0.5]])\n",
    "Q*Q.T"
   ]
  },
  {
   "cell_type": "code",
   "execution_count": 89,
   "id": "75ed91ec",
   "metadata": {},
   "outputs": [
    {
     "data": {
      "image/png": "[encoded data removed]",
      "text/latex": [
       "$\\displaystyle \\left[\\begin{matrix}1.0 & -5.55111512312578 \\cdot 10^{-17} & -5.55111512312578 \\cdot 10^{-17}\\\\-5.55111512312578 \\cdot 10^{-17} & 1.0 & 9.71445146547012 \\cdot 10^{-17}\\\\-5.55111512312578 \\cdot 10^{-17} & 9.71445146547012 \\cdot 10^{-17} & 1.0\\end{matrix}\\right]$"
      ],
      "text/plain": [
       "⎡         1.0           -5.55111512312578e-17  -5.55111512312578e-17⎤\n",
       "⎢                                                                   ⎥\n",
       "⎢-5.55111512312578e-17           1.0           9.71445146547012e-17 ⎥\n",
       "⎢                                                                   ⎥\n",
       "⎣-5.55111512312578e-17  9.71445146547012e-17            1.0         ⎦"
      ]
     },
     "execution_count": 89,
     "metadata": {},
     "output_type": "execute_result"
    }
   ],
   "source": [
    "#2e 3e\n",
    "V = Matrix([[1,0,-4],\n",
    "           [2,1,1],\n",
    "           [2,-1,1]])\n",
    "b = Matrix([9,-2,3])\n",
    "qqt = V.T*V\n",
    "Q = Matrix([[V[:,0] * 1/qqt[0,0]**0.5, V[:,1] * 1/qqt[1,1]**0.5, V[:,2]*1/qqt[2,2]**0.5]])\n",
    "#Q\n",
    "nsimplify(Q*Q.T)\n"
   ]
  },
  {
   "cell_type": "code",
   "execution_count": 88,
   "id": "d303302d",
   "metadata": {},
   "outputs": [
    {
     "data": {
      "image/png": "[encoded data removed]",
      "text/latex": [
       "$\\displaystyle 0.235702260395516$"
      ],
      "text/plain": [
       "0.23570226039551587"
      ]
     },
     "execution_count": 88,
     "metadata": {},
     "output_type": "execute_result"
    }
   ],
   "source": [
    "1/(18**0.5)"
   ]
  },
  {
   "cell_type": "code",
   "execution_count": 138,
   "id": "59327ab3",
   "metadata": {},
   "outputs": [
    {
     "data": {
      "image/png": "[encoded data removed]",
      "text/latex": [
       "$\\displaystyle \\left[\\begin{matrix}\\frac{1}{2}\\\\- \\frac{1}{2}\\\\2\\end{matrix}\\right]$"
      ],
      "text/plain": [
       "⎡1/2 ⎤\n",
       "⎢    ⎥\n",
       "⎢-1/2⎥\n",
       "⎢    ⎥\n",
       "⎣ 2  ⎦"
      ]
     },
     "execution_count": 138,
     "metadata": {},
     "output_type": "execute_result"
    }
   ],
   "source": [
    "#6a\n",
    "b1 = Matrix([1,1,0])\n",
    "b2 = Matrix([1,0,2])\n",
    "bv = b1.dot(b2)/b1.dot(b1)*b1\n",
    "b2_orth = b2 - bv\n",
    "b2_orth"
   ]
  },
  {
   "cell_type": "code",
   "execution_count": 133,
   "id": "f91dce10",
   "metadata": {},
   "outputs": [
    {
     "data": {
      "image/png": "[encoded data removed]",
      "text/latex": [
       "$\\displaystyle \\left[\\begin{matrix}1\\\\1\\\\2\\\\2\\end{matrix}\\right]$"
      ],
      "text/plain": [
       "⎡1⎤\n",
       "⎢ ⎥\n",
       "⎢1⎥\n",
       "⎢ ⎥\n",
       "⎢2⎥\n",
       "⎢ ⎥\n",
       "⎣2⎦"
      ]
     },
     "execution_count": 133,
     "metadata": {},
     "output_type": "execute_result"
    }
   ],
   "source": [
    "#6b\n",
    "b1 = Matrix([1,-1,2,-2])\n",
    "b2 = Matrix([1,-3,2,-1])\n",
    "b3 = Matrix([2,2,4,-1])\n",
    "b2_new = b2 - b1.dot(b2)/b1.dot(b1)*b1\n",
    "b3_new = b3 - b3.dot(b2_new)/b2_new.dot(b2_new)*b2_new - b3.dot(b1)/b1.dot(b1)*b1\n",
    "b3_new"
   ]
  },
  {
   "cell_type": "code",
   "execution_count": 114,
   "id": "7890bebe",
   "metadata": {},
   "outputs": [
    {
     "data": {
      "image/png": "[encoded data removed]",
      "text/latex": [
       "$\\displaystyle \\left[\\begin{matrix}\\frac{13}{14}\\\\- \\frac{20}{7}\\\\- \\frac{31}{14}\\end{matrix}\\right]$"
      ],
      "text/plain": [
       "⎡ 13  ⎤\n",
       "⎢ ──  ⎥\n",
       "⎢ 14  ⎥\n",
       "⎢     ⎥\n",
       "⎢-20/7⎥\n",
       "⎢     ⎥\n",
       "⎢-31  ⎥\n",
       "⎢──── ⎥\n",
       "⎣ 14  ⎦"
      ]
     },
     "execution_count": 114,
     "metadata": {},
     "output_type": "execute_result"
    }
   ],
   "source": [
    "#6c\n",
    "b1 = Matrix([1,-2,3])\n",
    "b2 = Matrix([2,-5,1])\n",
    "b3 = Matrix([-1,5,12])\n",
    "b2_new = b2 - b1.dot(b2)/b1.dot(b1)*b1\n",
    "b3_new = b3 - b3.dot(b2_new)/b2_new.dot(b2_new)*b2_new - b3.dot(b1)/b1.dot(b1)*b1\n",
    "b2_new"
   ]
  },
  {
   "cell_type": "code",
   "execution_count": 116,
   "id": "9c2cf684",
   "metadata": {},
   "outputs": [
    {
     "data": {
      "image/png": "[encoded data removed]",
      "text/latex": [
       "$\\displaystyle 0.0$"
      ],
      "text/plain": [
       "0.0"
      ]
     },
     "execution_count": 116,
     "metadata": {},
     "output_type": "execute_result"
    }
   ],
   "source": [
    "-5 +2*15/14 + 20/7"
   ]
  },
  {
   "cell_type": "code",
   "execution_count": 131,
   "id": "6f37409c",
   "metadata": {},
   "outputs": [
    {
     "data": {
      "image/png": "[encoded data removed]",
      "text/latex": [
       "$\\displaystyle \\left[\\begin{matrix}- \\frac{2}{3}\\\\- \\frac{4}{3}\\\\\\frac{2}{3}\\\\1\\end{matrix}\\right]$"
      ],
      "text/plain": [
       "⎡-2/3⎤\n",
       "⎢    ⎥\n",
       "⎢-4/3⎥\n",
       "⎢    ⎥\n",
       "⎢2/3 ⎥\n",
       "⎢    ⎥\n",
       "⎣ 1  ⎦"
      ]
     },
     "execution_count": 131,
     "metadata": {},
     "output_type": "execute_result"
    }
   ],
   "source": [
    "#6d\n",
    "b1 = Matrix([-2,1,0,0])\n",
    "b2 = Matrix([1,0,1,0])\n",
    "b3 = Matrix([-4,0,0,1])\n",
    "b2_new = b2 - b1.dot(b2)/b1.dot(b1)*b1\n",
    "b3_new = b3 - b3.dot(b2_new)/b2_new.dot(b2_new)*b2_new - b3.dot(b1)/b1.dot(b1)*b1\n",
    "b3_new"
   ]
  },
  {
   "cell_type": "code",
   "execution_count": 129,
   "id": "505c2628",
   "metadata": {},
   "outputs": [
    {
     "data": {
      "image/png": "[encoded data removed]",
      "text/latex": [
       "$\\displaystyle -0.666666666666667$"
      ],
      "text/plain": [
       "-0.6666666666666665"
      ]
     },
     "execution_count": 129,
     "metadata": {},
     "output_type": "execute_result"
    }
   ],
   "source": [
    "-4 + 16/5 + 2/15"
   ]
  },
  {
   "cell_type": "code",
   "execution_count": 121,
   "id": "3f578c0c",
   "metadata": {},
   "outputs": [
    {
     "data": {
      "image/png": "[encoded data removed]",
      "text/latex": [
       "$\\displaystyle -0.666666666666667$"
      ],
      "text/plain": [
       "-0.6666666666666667"
      ]
     },
     "execution_count": 121,
     "metadata": {},
     "output_type": "execute_result"
    }
   ],
   "source": [
    "-0.8/(30/25)"
   ]
  },
  {
   "cell_type": "code",
   "execution_count": 135,
   "id": "abfb59b2",
   "metadata": {},
   "outputs": [
    {
     "data": {
      "image/png": "[encoded data removed]",
      "text/latex": [
       "$\\displaystyle \\left[\\begin{matrix}\\frac{4}{5}\\\\0\\\\- \\frac{2}{5}\\\\0\\end{matrix}\\right]$"
      ],
      "text/plain": [
       "⎡4/5 ⎤\n",
       "⎢    ⎥\n",
       "⎢ 0  ⎥\n",
       "⎢    ⎥\n",
       "⎢-2/5⎥\n",
       "⎢    ⎥\n",
       "⎣ 0  ⎦"
      ]
     },
     "execution_count": 135,
     "metadata": {},
     "output_type": "execute_result"
    }
   ],
   "source": [
    "#8\n",
    "b1 = Matrix([1,-1,2,-2])\n",
    "b2 = Matrix([1,-3,2,-1])\n",
    "b3 = Matrix([2,2,4,-1])\n",
    "b4 = Matrix([1,0,0,0])\n",
    "b2_new = b2 - b1.dot(b2)/b1.dot(b1)*b1\n",
    "b3_new = b3 - b3.dot(b2_new)/b2_new.dot(b2_new)*b2_new - b3.dot(b1)/b1.dot(b1)*b1\n",
    "b4_new = b4 - b4.dot(b3_new)/b3_new.dot(b3_new)*b3_new - b4.dot(b2_new)/b2_new.dot(b2_new)*b2_new - b4.dot(b1)/b1.dot(b1)*b1\n",
    "b4_new"
   ]
  },
  {
   "cell_type": "code",
   "execution_count": 139,
   "id": "8a3f1ab2",
   "metadata": {},
   "outputs": [
    {
     "data": {
      "image/png": "[encoded data removed]",
      "text/latex": [
       "$\\displaystyle \\left( \\left[\\begin{matrix}\\frac{\\sqrt{2}}{2} & \\frac{\\sqrt{2}}{6}\\\\\\frac{\\sqrt{2}}{2} & - \\frac{\\sqrt{2}}{6}\\\\0 & \\frac{2 \\sqrt{2}}{3}\\end{matrix}\\right], \\  \\left[\\begin{matrix}\\sqrt{2} & \\frac{\\sqrt{2}}{2}\\\\0 & \\frac{3 \\sqrt{2}}{2}\\end{matrix}\\right]\\right)$"
      ],
      "text/plain": [
       "⎛⎡√2   √2 ⎤            ⎞\n",
       "⎜⎢──   ── ⎥            ⎟\n",
       "⎜⎢2    6  ⎥  ⎡     √2 ⎤⎟\n",
       "⎜⎢        ⎥  ⎢√2   ── ⎥⎟\n",
       "⎜⎢√2  -√2 ⎥  ⎢     2  ⎥⎟\n",
       "⎜⎢──  ────⎥, ⎢        ⎥⎟\n",
       "⎜⎢2    6  ⎥  ⎢    3⋅√2⎥⎟\n",
       "⎜⎢        ⎥  ⎢0   ────⎥⎟\n",
       "⎜⎢    2⋅√2⎥  ⎣     2  ⎦⎟\n",
       "⎜⎢0   ────⎥            ⎟\n",
       "⎝⎣     3  ⎦            ⎠"
      ]
     },
     "execution_count": 139,
     "metadata": {},
     "output_type": "execute_result"
    }
   ],
   "source": [
    "A = Matrix([[1,1],\n",
    "           [1,0],\n",
    "            [0,2]])\n",
    "A.QRdecomposition()"
   ]
  },
  {
   "cell_type": "code",
   "execution_count": 150,
   "id": "4173ff5e",
   "metadata": {},
   "outputs": [
    {
     "data": {
      "image/png": "[encoded data removed]",
      "text/latex": [
       "$\\displaystyle \\left( \\left[\\begin{matrix}\\frac{\\sqrt{10}}{10} & 0 & \\frac{\\sqrt{10}}{10}\\\\- \\frac{\\sqrt{10}}{10} & - \\frac{2 \\sqrt{5}}{5} & \\frac{\\sqrt{10}}{10}\\\\\\frac{\\sqrt{10}}{5} & 0 & \\frac{\\sqrt{10}}{5}\\\\- \\frac{\\sqrt{10}}{5} & \\frac{\\sqrt{5}}{5} & \\frac{\\sqrt{10}}{5}\\end{matrix}\\right], \\  \\left[\\begin{matrix}\\sqrt{10} & \\sqrt{10} & \\sqrt{10}\\\\0 & \\sqrt{5} & - \\sqrt{5}\\\\0 & 0 & \\sqrt{10}\\end{matrix}\\right]\\right)$"
      ],
      "text/plain": [
       "⎛⎡ √10           √10⎤                 ⎞\n",
       "⎜⎢ ───     0     ───⎥                 ⎟\n",
       "⎜⎢  10            10⎥                 ⎟\n",
       "⎜⎢                  ⎥                 ⎟\n",
       "⎜⎢-√10   -2⋅√5   √10⎥                 ⎟\n",
       "⎜⎢─────  ──────  ───⎥  ⎡√10  √10  √10⎤⎟\n",
       "⎜⎢  10     5      10⎥  ⎢             ⎥⎟\n",
       "⎜⎢                  ⎥, ⎢ 0   √5   -√5⎥⎟\n",
       "⎜⎢ √10           √10⎥  ⎢             ⎥⎟\n",
       "⎜⎢ ───     0     ───⎥  ⎣ 0    0   √10⎦⎟\n",
       "⎜⎢  5             5 ⎥                 ⎟\n",
       "⎜⎢                  ⎥                 ⎟\n",
       "⎜⎢-√10     √5    √10⎥                 ⎟\n",
       "⎜⎢─────    ──    ───⎥                 ⎟\n",
       "⎝⎣  5      5      5 ⎦                 ⎠"
      ]
     },
     "execution_count": 150,
     "metadata": {},
     "output_type": "execute_result"
    }
   ],
   "source": [
    "A = Matrix([[1,1,2],\n",
    "           [-1,-3,2],\n",
    "           [2,2,4],\n",
    "           [-2,-1,-1]])\n",
    "A.QRdecomposition()"
   ]
  },
  {
   "cell_type": "code",
   "execution_count": 167,
   "id": "2fa584f4",
   "metadata": {},
   "outputs": [
    {
     "data": {
      "image/png": "[encoded data removed]",
      "text/latex": [
       "$\\displaystyle 0$"
      ],
      "text/plain": [
       "0"
      ]
     },
     "execution_count": 167,
     "metadata": {},
     "output_type": "execute_result"
    }
   ],
   "source": [
    "A = Matrix([-6/34,24/34,24/34,-6/34])\n",
    "A.norm() - 6*(34**0.5)/34"
   ]
  },
  {
   "cell_type": "code",
   "execution_count": 177,
   "id": "7935c4a5",
   "metadata": {},
   "outputs": [
    {
     "data": {
      "image/png": "[encoded data removed]",
      "text/latex": [
       "$\\displaystyle \\left( \\left[\\begin{matrix}1 & 0 & 0 & 1\\\\0 & 1 & 0 & \\frac{1}{5}\\\\0 & 0 & 1 & -1\\end{matrix}\\right], \\  \\left( 0, \\  1, \\  2\\right)\\right)$"
      ],
      "text/plain": [
       "⎛⎡1  0  0   1 ⎤           ⎞\n",
       "⎜⎢            ⎥           ⎟\n",
       "⎜⎢0  1  0  1/5⎥, (0, 1, 2)⎟\n",
       "⎜⎢            ⎥           ⎟\n",
       "⎝⎣0  0  1  -1 ⎦           ⎠"
      ]
     },
     "execution_count": 177,
     "metadata": {},
     "output_type": "execute_result"
    }
   ],
   "source": [
    "A = Matrix([[4,-2,1],\n",
    "           [1,-1,1],\n",
    "           [1,1,1],\n",
    "           [4,2,1]])\n",
    "b = Matrix([3,-1,1,3])\n",
    "Q = A.QRdecomposition()[0]\n",
    "R = A.QRdecomposition()[1]\n",
    "#Q.T*b\n",
    "R_aug = R.col_insert(3,Q.T*b)\n",
    "R_aug.rref()"
   ]
  },
  {
   "cell_type": "code",
   "execution_count": 193,
   "id": "624e7a3e",
   "metadata": {},
   "outputs": [
    {
     "data": {
      "image/png": "[encoded data removed]",
      "text/latex": [
       "$\\displaystyle 1.0$"
      ],
      "text/plain": [
       "1.00000000000000"
      ]
     },
     "execution_count": 193,
     "metadata": {},
     "output_type": "execute_result"
    }
   ],
   "source": [
    "A = Matrix([[1,1,1],\n",
    "           [0.5,1,0.5],\n",
    "           [1,1,3]])\n",
    "A.det()"
   ]
  },
  {
   "cell_type": "code",
   "execution_count": 187,
   "id": "bf10a156",
   "metadata": {},
   "outputs": [
    {
     "data": {
      "image/png": "[encoded data removed]",
      "text/latex": [
       "$\\displaystyle 48$"
      ],
      "text/plain": [
       "48"
      ]
     },
     "execution_count": 187,
     "metadata": {},
     "output_type": "execute_result"
    }
   ],
   "source": [
    "2*3*2*4"
   ]
  },
  {
   "cell_type": "code",
   "execution_count": 186,
   "id": "d02afc39",
   "metadata": {},
   "outputs": [
    {
     "data": {
      "image/png": "[encoded data removed]",
      "text/latex": [
       "$\\displaystyle 17$"
      ],
      "text/plain": [
       "17"
      ]
     },
     "execution_count": 186,
     "metadata": {},
     "output_type": "execute_result"
    }
   ],
   "source": [
    "33 - 16"
   ]
  },
  {
   "cell_type": "code",
   "execution_count": null,
   "id": "0ce3a94c",
   "metadata": {},
   "outputs": [],
   "source": []
  }
 ],
 "metadata": {
  "kernelspec": {
   "display_name": "Python 3 (ipykernel)",
   "language": "python",
   "name": "python3"
  },
  "language_info": {
   "codemirror_mode": {
    "name": "ipython",
    "version": 3
   },
   "file_extension": ".py",
   "mimetype": "text/x-python",
   "name": "python",
   "nbconvert_exporter": "python",
   "pygments_lexer": "ipython3",
   "version": "3.10.4"
  }
 },
 "nbformat": 4,
 "nbformat_minor": 5
}
